{
 "cells": [
  {
   "cell_type": "markdown",
   "metadata": {},
   "source": [
    "# Weather and Commodities"
   ]
  },
  {
   "cell_type": "markdown",
   "metadata": {},
   "source": [
    "The goal of this study is to examine the effect of weather on agricultural commodity prices. The initial target is to see how what percentage of price variability is explained by weather, and the secondary target is to predict commodities price movement (directional/classification or actual price). There will be two main datasets used. First is historical price data for corn, cotton, and wheat. This data is a daily closing price for every business day dating back to the 60s. Second is weather data from the National Oceanic and Atmospheric Administration(NOAA). The data set is the global summary of the day (GSOD). This provides data on a number of daily metrics such as temperature, humidity, and wind, for numerous locations across the globe. For this data set, I will only use data from the US, and given the time, only for crop growing regions. Corn, cotton, and wheat are three of the US' biggest crops. This analysis will assume that the US market is the driver of US commodity prices, while it is possible and even probable that imports from other countries would affect prices too."
   ]
  },
  {
   "cell_type": "markdown",
   "metadata": {},
   "source": [
    "### Imports"
   ]
  },
  {
   "cell_type": "code",
   "execution_count": 150,
   "metadata": {
    "collapsed": true
   },
   "outputs": [],
   "source": [
    "import numpy as np\n",
    "import pandas as pd\n",
    "import matplotlib.pyplot as plt\n",
    "\n",
    "% matplotlib inline"
   ]
  },
  {
   "cell_type": "markdown",
   "metadata": {},
   "source": [
    "### Commodities Data"
   ]
  },
  {
   "cell_type": "code",
   "execution_count": 2,
   "metadata": {
    "collapsed": true
   },
   "outputs": [],
   "source": [
    "corn = pd.read_csv('./data/corn-price-data.csv')\n",
    "cotton = pd.read_csv('./data/cotton-price-data.csv')\n",
    "wheat = pd.read_csv('./data/wheat-price-data.csv')"
   ]
  },
  {
   "cell_type": "code",
   "execution_count": 3,
   "metadata": {},
   "outputs": [
    {
     "name": "stdout",
     "output_type": "stream",
     "text": [
      "(12309, 2)\n",
      "(12310, 2)\n",
      "(10834, 2)\n"
     ]
    }
   ],
   "source": [
    "print(corn.shape)\n",
    "print(cotton.shape)\n",
    "print(wheat.shape)"
   ]
  },
  {
   "cell_type": "code",
   "execution_count": 9,
   "metadata": {},
   "outputs": [
    {
     "data": {
      "text/html": [
       "<div>\n",
       "<style>\n",
       "    .dataframe thead tr:only-child th {\n",
       "        text-align: right;\n",
       "    }\n",
       "\n",
       "    .dataframe thead th {\n",
       "        text-align: left;\n",
       "    }\n",
       "\n",
       "    .dataframe tbody tr th {\n",
       "        vertical-align: top;\n",
       "    }\n",
       "</style>\n",
       "<table border=\"1\" class=\"dataframe\">\n",
       "  <thead>\n",
       "    <tr style=\"text-align: right;\">\n",
       "      <th></th>\n",
       "      <th>date</th>\n",
       "      <th>value</th>\n",
       "    </tr>\n",
       "  </thead>\n",
       "  <tbody>\n",
       "    <tr>\n",
       "      <th>0</th>\n",
       "      <td>6/2/69</td>\n",
       "      <td>1.3300</td>\n",
       "    </tr>\n",
       "    <tr>\n",
       "      <th>1</th>\n",
       "      <td>6/3/69</td>\n",
       "      <td>1.3450</td>\n",
       "    </tr>\n",
       "    <tr>\n",
       "      <th>2</th>\n",
       "      <td>6/4/69</td>\n",
       "      <td>1.3475</td>\n",
       "    </tr>\n",
       "    <tr>\n",
       "      <th>3</th>\n",
       "      <td>6/5/69</td>\n",
       "      <td>1.3450</td>\n",
       "    </tr>\n",
       "    <tr>\n",
       "      <th>4</th>\n",
       "      <td>6/6/69</td>\n",
       "      <td>1.3400</td>\n",
       "    </tr>\n",
       "  </tbody>\n",
       "</table>\n",
       "</div>"
      ],
      "text/plain": [
       "     date   value\n",
       "0  6/2/69  1.3300\n",
       "1  6/3/69  1.3450\n",
       "2  6/4/69  1.3475\n",
       "3  6/5/69  1.3450\n",
       "4  6/6/69  1.3400"
      ]
     },
     "execution_count": 9,
     "metadata": {},
     "output_type": "execute_result"
    }
   ],
   "source": [
    "corn.head()"
   ]
  },
  {
   "cell_type": "code",
   "execution_count": 18,
   "metadata": {},
   "outputs": [
    {
     "data": {
      "text/html": [
       "<div>\n",
       "<style>\n",
       "    .dataframe thead tr:only-child th {\n",
       "        text-align: right;\n",
       "    }\n",
       "\n",
       "    .dataframe thead th {\n",
       "        text-align: left;\n",
       "    }\n",
       "\n",
       "    .dataframe tbody tr th {\n",
       "        vertical-align: top;\n",
       "    }\n",
       "</style>\n",
       "<table border=\"1\" class=\"dataframe\">\n",
       "  <thead>\n",
       "    <tr style=\"text-align: right;\">\n",
       "      <th></th>\n",
       "      <th>value</th>\n",
       "    </tr>\n",
       "  </thead>\n",
       "  <tbody>\n",
       "    <tr>\n",
       "      <th>count</th>\n",
       "      <td>12309.000000</td>\n",
       "    </tr>\n",
       "    <tr>\n",
       "      <th>mean</th>\n",
       "      <td>2.871731</td>\n",
       "    </tr>\n",
       "    <tr>\n",
       "      <th>std</th>\n",
       "      <td>1.283200</td>\n",
       "    </tr>\n",
       "    <tr>\n",
       "      <th>min</th>\n",
       "      <td>1.025000</td>\n",
       "    </tr>\n",
       "    <tr>\n",
       "      <th>25%</th>\n",
       "      <td>2.085000</td>\n",
       "    </tr>\n",
       "    <tr>\n",
       "      <th>50%</th>\n",
       "      <td>2.580000</td>\n",
       "    </tr>\n",
       "    <tr>\n",
       "      <th>75%</th>\n",
       "      <td>3.395000</td>\n",
       "    </tr>\n",
       "    <tr>\n",
       "      <th>max</th>\n",
       "      <td>8.490000</td>\n",
       "    </tr>\n",
       "  </tbody>\n",
       "</table>\n",
       "</div>"
      ],
      "text/plain": [
       "              value\n",
       "count  12309.000000\n",
       "mean       2.871731\n",
       "std        1.283200\n",
       "min        1.025000\n",
       "25%        2.085000\n",
       "50%        2.580000\n",
       "75%        3.395000\n",
       "max        8.490000"
      ]
     },
     "execution_count": 18,
     "metadata": {},
     "output_type": "execute_result"
    }
   ],
   "source": [
    "corn.describe()"
   ]
  },
  {
   "cell_type": "code",
   "execution_count": 24,
   "metadata": {},
   "outputs": [
    {
     "data": {
      "text/plain": [
       "Index(['date', ' value'], dtype='object')"
      ]
     },
     "execution_count": 24,
     "metadata": {},
     "output_type": "execute_result"
    }
   ],
   "source": [
    "corn.columns"
   ]
  },
  {
   "cell_type": "code",
   "execution_count": 3,
   "metadata": {
    "collapsed": true
   },
   "outputs": [],
   "source": [
    "corn['date'] = pd.to_datetime(corn.date)\n",
    "cotton['date'] = pd.to_datetime(cotton.date)\n",
    "wheat['date'] = pd.to_datetime(wheat.date)"
   ]
  },
  {
   "cell_type": "code",
   "execution_count": 31,
   "metadata": {},
   "outputs": [
    {
     "data": {
      "image/png": "[encoded data removed]",
      "text/plain": [
       "<matplotlib.figure.Figure at 0x115b66a90>"
      ]
     },
     "metadata": {},
     "output_type": "display_data"
    }
   ],
   "source": [
    "plt.hist(corn[' value'])\n",
    "plt.title('Corn Price Distribution')\n",
    "plt.xlabel('Price')\n",
    "plt.ylabel('Frequency');"
   ]
  },
  {
   "cell_type": "code",
   "execution_count": 32,
   "metadata": {},
   "outputs": [
    {
     "data": {
      "image/png": "[encoded data removed]",
      "text/plain": [
       "<matplotlib.figure.Figure at 0x1156339b0>"
      ]
     },
     "metadata": {},
     "output_type": "display_data"
    }
   ],
   "source": [
    "plt.hist(cotton[' value'])\n",
    "plt.title('Cotton Price Distribution')\n",
    "plt.xlabel('Price')\n",
    "plt.ylabel('Frequency');"
   ]
  },
  {
   "cell_type": "code",
   "execution_count": 33,
   "metadata": {},
   "outputs": [
    {
     "data": {
      "image/png": "[encoded data removed]",
      "text/plain": [
       "<matplotlib.figure.Figure at 0x118a9b8d0>"
      ]
     },
     "metadata": {},
     "output_type": "display_data"
    }
   ],
   "source": [
    "plt.hist(wheat[' value'])\n",
    "plt.title('Wheat Price Distribution')\n",
    "plt.xlabel('Price')\n",
    "plt.ylabel('Frequency');"
   ]
  },
  {
   "cell_type": "markdown",
   "metadata": {
    "collapsed": true
   },
   "source": [
    "### Weather Data"
   ]
  },
  {
   "cell_type": "code",
   "execution_count": 48,
   "metadata": {
    "collapsed": true
   },
   "outputs": [],
   "source": [
    "# will be performing same steps on a number similar datasets and merging them together\n",
    "samp = pd.read_csv('./data/gsod_sample.txt')"
   ]
  },
  {
   "cell_type": "code",
   "execution_count": 66,
   "metadata": {
    "collapsed": true
   },
   "outputs": [],
   "source": [
    "# turn weather dates into date-time values\n",
    "def make_date(x):\n",
    "    x = str(x)\n",
    "    y = x[:4] + '/' + x[4:6] + '/' + x[6:]\n",
    "    return pd.to_datetime(y, yearfirst=True)"
   ]
  },
  {
   "cell_type": "code",
   "execution_count": 144,
   "metadata": {},
   "outputs": [],
   "source": [
    "# weather data schema, to read in fixed width file\n",
    "weather_schema = pd.read_csv('~/desktop/gsod_data/noaa-gsod-data-munging/gsod_schema.csv')\n",
    "\n",
    "# column names for df\n",
    "weather_schema.drop([3,4], inplace=True)\n",
    "weather_schema.loc[2, 'column'] = 'DATE'\n",
    "weather_schema.loc[0, 'column'] = 'STN'\n",
    "weather_cols = [i for i in weather_schema.column]\n",
    "\n",
    "# column widths for df\n",
    "weather_schema['end'] = weather_schema.start + weather_schema.length\n",
    "weather_schema.loc[2, 'end'] = 22\n",
    "weather_specs = tuple(zip(weather_schema.start, weather_schema.end))"
   ]
  },
  {
   "cell_type": "code",
   "execution_count": 145,
   "metadata": {},
   "outputs": [],
   "source": [
    "# read in fixed width weather file with schema specs\n",
    "df = pd.read_fwf('~/desktop/gsod_data/data/2018.op', colspecs=weather_specs, header=None, names=weather_cols)\n",
    "\n",
    "# convert to datetime object\n",
    "df.DATE = df.DATE.map(lambda x: make_date(x))\n",
    "\n",
    "# replace \"9\" values with nans in appropriate columns\n",
    "nine_thou = ['TEMP', 'DEWP', 'SLP', 'STP', 'MAX', 'MIN']\n",
    "nine_hun = ['VISIB', 'WDSP', 'MXSPD', 'GUST', 'SNDP']\n",
    "\n",
    "for i in nine_thou:\n",
    "    df[i].replace(9999.9, np.nan, inplace=True)\n",
    "    \n",
    "for i in nine_hun:\n",
    "    df[i].replace(999.9, np.nan, inplace=True)\n",
    "    \n",
    "\n",
    "df.PRCP.replace(99.99, np.nan, inplace=True)"
   ]
  },
  {
   "cell_type": "code",
   "execution_count": 112,
   "metadata": {},
   "outputs": [],
   "source": [
    "# station schema, to read in fixed width file\n",
    "station_schema = pd.read_csv('./data/station_schema.csv')\n",
    "station_specs = tuple(zip(station_schema.start, station_schema.end))\n",
    "\n",
    "# read in fixed width station file with schema data\n",
    "stations = pd.read_fwf('./data/station_ref.txt', colspecs=station_specs)\n",
    "\n",
    "# filter stations to those in US\n",
    "us_stations = stations[stations.CT == 'US']\n",
    "usa_stations = [i for i in us_stations.USAF]"
   ]
  },
  {
   "cell_type": "code",
   "execution_count": 146,
   "metadata": {},
   "outputs": [],
   "source": [
    "# filter weather data to US stations\n",
    "us_weather = df[df.STN.isin(usa_stations)]"
   ]
  },
  {
   "cell_type": "code",
   "execution_count": 147,
   "metadata": {},
   "outputs": [
    {
     "data": {
      "text/plain": [
       "(252851, 30)"
      ]
     },
     "execution_count": 147,
     "metadata": {},
     "output_type": "execute_result"
    }
   ],
   "source": [
    "us_weather.shape"
   ]
  },
  {
   "cell_type": "code",
   "execution_count": 149,
   "metadata": {},
   "outputs": [
    {
     "data": {
      "text/plain": [
       "2661"
      ]
     },
     "execution_count": 149,
     "metadata": {},
     "output_type": "execute_result"
    }
   ],
   "source": [
    "len(us_weather.STN.unique())"
   ]
  }
 ],
 "metadata": {
  "kernelspec": {
   "display_name": "Python [conda env:anaconda3]",
   "language": "python",
   "name": "conda-env-anaconda3-py"
  },
  "language_info": {
   "codemirror_mode": {
    "name": "ipython",
    "version": 3
   },
   "file_extension": ".py",
   "mimetype": "text/x-python",
   "name": "python",
   "nbconvert_exporter": "python",
   "pygments_lexer": "ipython3",
   "version": "3.6.3"
  }
 },
 "nbformat": 4,
 "nbformat_minor": 2
}
